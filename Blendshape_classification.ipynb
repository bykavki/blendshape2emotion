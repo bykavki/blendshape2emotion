{
  "nbformat": 4,
  "nbformat_minor": 0,
  "metadata": {
    "colab": {
      "provenance": []
    },
    "kernelspec": {
      "name": "python3",
      "display_name": "Python 3"
    },
    "language_info": {
      "name": "python"
    }
  },
  "cells": [
    {
      "cell_type": "code",
      "execution_count": null,
      "metadata": {
        "id": "jQnuqlBJ2wBo"
      },
      "outputs": [],
      "source": [
        "import numpy as np\n",
        "import pandas as pd\n",
        "import seaborn as sns; sns.set()\n",
        "import matplotlib.pyplot as plt\n",
        "\n",
        "from google.colab import drive\n",
        "from sklearn.metrics import accuracy_score\n",
        "from sklearn.model_selection import train_test_split\n",
        "from sklearn.model_selection import GridSearchCV\n",
        "from sklearn.neighbors import KNeighborsClassifier\n",
        "from sklearn.linear_model import LogisticRegression\n",
        "from sklearn.tree import DecisionTreeClassifier\n",
        "from sklearn.ensemble import RandomForestClassifier, VotingClassifier\n",
        "from sklearn.neighbors import KNeighborsClassifier\n",
        "from sklearn.ensemble import BaggingClassifier"
      ]
    },
    {
      "cell_type": "code",
      "source": [
        "drive.mount('/content/drive/')"
      ],
      "metadata": {
        "colab": {
          "base_uri": "https://localhost:8080/"
        },
        "id": "RflaeFfDB1H0",
        "outputId": "52071ca2-8634-425f-bc92-34d89cbee9aa"
      },
      "execution_count": null,
      "outputs": [
        {
          "output_type": "stream",
          "name": "stdout",
          "text": [
            "Mounted at /content/drive/\n"
          ]
        }
      ]
    },
    {
      "cell_type": "code",
      "source": [
        "pd.set_option('display.max_rows', 500)\n",
        "pd.set_option('display.max_columns', 500)\n",
        "pd.set_option('display.width', 1000)\n"
      ],
      "metadata": {
        "id": "4dL478hcDwsa"
      },
      "execution_count": null,
      "outputs": []
    },
    {
      "cell_type": "markdown",
      "source": [
        "# Baseline"
      ],
      "metadata": {
        "id": "U0f8TG-nBR4W"
      }
    },
    {
      "cell_type": "code",
      "source": [
        "df = pd.read_csv(\"/content/drive/MyDrive/УИР/dataset.csv\", delimiter=\";\", decimal=\",\")\n",
        "df.head()"
      ],
      "metadata": {
        "colab": {
          "base_uri": "https://localhost:8080/",
          "height": 253
        },
        "id": "7Lg2criXBTbS",
        "outputId": "ba9116e5-c579-401f-9b38-b828bf38c1c8"
      },
      "execution_count": null,
      "outputs": [
        {
          "output_type": "execute_result",
          "data": {
            "text/plain": [
              "   Eye_Left_Blink  Eye_Left_Wide  Eye_Left_Right  Eye_Left_Left  Eye_Left_Up  \\\n",
              "0        0.000000       0.143556        0.062867      -0.062867     0.143556   \n",
              "1        0.000000       0.281156        0.063703      -0.063703     0.281156   \n",
              "2        0.121046       0.000000        0.060617      -0.060617     0.000000   \n",
              "3        0.000000       0.116391        0.052347      -0.052347     0.116391   \n",
              "4        0.000000       0.128687        0.056471      -0.056471     0.128687   \n",
              "\n",
              "   Eye_Left_Down  Eye_Right_Blink  Eye_Right_Wide  Eye_Right_Right  \\\n",
              "0       0.180122         0.000000        0.143556         0.062867   \n",
              "1       0.161791         0.000000        0.281156         0.063703   \n",
              "2       0.185561         0.360418        0.000000         0.060617   \n",
              "3       0.158755         0.000000        0.116391         0.052347   \n",
              "4       0.179889         0.000000        0.128687         0.056471   \n",
              "\n",
              "   Eye_Right_Left  ...  Tongue_Up  Tongue_Down  Tongue_Roll  Tongue_LongStep2  \\\n",
              "0       -0.062867  ...        0.0          0.0          0.0               0.0   \n",
              "1       -0.063703  ...        0.0          0.0          0.0               0.0   \n",
              "2       -0.060617  ...        0.0          0.0          0.0               0.0   \n",
              "3       -0.052347  ...        0.0          0.0          0.0               0.0   \n",
              "4       -0.056471  ...        0.0          0.0          0.0               0.0   \n",
              "\n",
              "   Tongue_UpRight_Morph  Tongue_UpLeft_Morph  Tongue_DownRight_Morph  \\\n",
              "0                   0.0                  0.0                     0.0   \n",
              "1                   0.0                  0.0                     0.0   \n",
              "2                   0.0                  0.0                     0.0   \n",
              "3                   0.0                  0.0                     0.0   \n",
              "4                   0.0                  0.0                     0.0   \n",
              "\n",
              "   Tongue_DownLeft_Morph  EmotionNum  Emotion  \n",
              "0                    0.0         1.0   Afraid  \n",
              "1                    0.0         2.0    Angry  \n",
              "2                    0.0         3.0  Disgust  \n",
              "3                    0.0         4.0    Happy  \n",
              "4                    0.0         5.0  Neutral  \n",
              "\n",
              "[5 rows x 54 columns]"
            ],
            "text/html": [
              "\n",
              "  <div id=\"df-5338e6b5-0420-4048-a83c-08db46b7fae5\" class=\"colab-df-container\">\n",
              "    <div>\n",
              "<style scoped>\n",
              "    .dataframe tbody tr th:only-of-type {\n",
              "        vertical-align: middle;\n",
              "    }\n",
              "\n",
              "    .dataframe tbody tr th {\n",
              "        vertical-align: top;\n",
              "    }\n",
              "\n",
              "    .dataframe thead th {\n",
              "        text-align: right;\n",
              "    }\n",
              "</style>\n",
              "<table border=\"1\" class=\"dataframe\">\n",
              "  <thead>\n",
              "    <tr style=\"text-align: right;\">\n",
              "      <th></th>\n",
              "      <th>Eye_Left_Blink</th>\n",
              "      <th>Eye_Left_Wide</th>\n",
              "      <th>Eye_Left_Right</th>\n",
              "      <th>Eye_Left_Left</th>\n",
              "      <th>Eye_Left_Up</th>\n",
              "      <th>Eye_Left_Down</th>\n",
              "      <th>Eye_Right_Blink</th>\n",
              "      <th>Eye_Right_Wide</th>\n",
              "      <th>Eye_Right_Right</th>\n",
              "      <th>Eye_Right_Left</th>\n",
              "      <th>...</th>\n",
              "      <th>Tongue_Up</th>\n",
              "      <th>Tongue_Down</th>\n",
              "      <th>Tongue_Roll</th>\n",
              "      <th>Tongue_LongStep2</th>\n",
              "      <th>Tongue_UpRight_Morph</th>\n",
              "      <th>Tongue_UpLeft_Morph</th>\n",
              "      <th>Tongue_DownRight_Morph</th>\n",
              "      <th>Tongue_DownLeft_Morph</th>\n",
              "      <th>EmotionNum</th>\n",
              "      <th>Emotion</th>\n",
              "    </tr>\n",
              "  </thead>\n",
              "  <tbody>\n",
              "    <tr>\n",
              "      <th>0</th>\n",
              "      <td>0.000000</td>\n",
              "      <td>0.143556</td>\n",
              "      <td>0.062867</td>\n",
              "      <td>-0.062867</td>\n",
              "      <td>0.143556</td>\n",
              "      <td>0.180122</td>\n",
              "      <td>0.000000</td>\n",
              "      <td>0.143556</td>\n",
              "      <td>0.062867</td>\n",
              "      <td>-0.062867</td>\n",
              "      <td>...</td>\n",
              "      <td>0.0</td>\n",
              "      <td>0.0</td>\n",
              "      <td>0.0</td>\n",
              "      <td>0.0</td>\n",
              "      <td>0.0</td>\n",
              "      <td>0.0</td>\n",
              "      <td>0.0</td>\n",
              "      <td>0.0</td>\n",
              "      <td>1.0</td>\n",
              "      <td>Afraid</td>\n",
              "    </tr>\n",
              "    <tr>\n",
              "      <th>1</th>\n",
              "      <td>0.000000</td>\n",
              "      <td>0.281156</td>\n",
              "      <td>0.063703</td>\n",
              "      <td>-0.063703</td>\n",
              "      <td>0.281156</td>\n",
              "      <td>0.161791</td>\n",
              "      <td>0.000000</td>\n",
              "      <td>0.281156</td>\n",
              "      <td>0.063703</td>\n",
              "      <td>-0.063703</td>\n",
              "      <td>...</td>\n",
              "      <td>0.0</td>\n",
              "      <td>0.0</td>\n",
              "      <td>0.0</td>\n",
              "      <td>0.0</td>\n",
              "      <td>0.0</td>\n",
              "      <td>0.0</td>\n",
              "      <td>0.0</td>\n",
              "      <td>0.0</td>\n",
              "      <td>2.0</td>\n",
              "      <td>Angry</td>\n",
              "    </tr>\n",
              "    <tr>\n",
              "      <th>2</th>\n",
              "      <td>0.121046</td>\n",
              "      <td>0.000000</td>\n",
              "      <td>0.060617</td>\n",
              "      <td>-0.060617</td>\n",
              "      <td>0.000000</td>\n",
              "      <td>0.185561</td>\n",
              "      <td>0.360418</td>\n",
              "      <td>0.000000</td>\n",
              "      <td>0.060617</td>\n",
              "      <td>-0.060617</td>\n",
              "      <td>...</td>\n",
              "      <td>0.0</td>\n",
              "      <td>0.0</td>\n",
              "      <td>0.0</td>\n",
              "      <td>0.0</td>\n",
              "      <td>0.0</td>\n",
              "      <td>0.0</td>\n",
              "      <td>0.0</td>\n",
              "      <td>0.0</td>\n",
              "      <td>3.0</td>\n",
              "      <td>Disgust</td>\n",
              "    </tr>\n",
              "    <tr>\n",
              "      <th>3</th>\n",
              "      <td>0.000000</td>\n",
              "      <td>0.116391</td>\n",
              "      <td>0.052347</td>\n",
              "      <td>-0.052347</td>\n",
              "      <td>0.116391</td>\n",
              "      <td>0.158755</td>\n",
              "      <td>0.000000</td>\n",
              "      <td>0.116391</td>\n",
              "      <td>0.052347</td>\n",
              "      <td>-0.052347</td>\n",
              "      <td>...</td>\n",
              "      <td>0.0</td>\n",
              "      <td>0.0</td>\n",
              "      <td>0.0</td>\n",
              "      <td>0.0</td>\n",
              "      <td>0.0</td>\n",
              "      <td>0.0</td>\n",
              "      <td>0.0</td>\n",
              "      <td>0.0</td>\n",
              "      <td>4.0</td>\n",
              "      <td>Happy</td>\n",
              "    </tr>\n",
              "    <tr>\n",
              "      <th>4</th>\n",
              "      <td>0.000000</td>\n",
              "      <td>0.128687</td>\n",
              "      <td>0.056471</td>\n",
              "      <td>-0.056471</td>\n",
              "      <td>0.128687</td>\n",
              "      <td>0.179889</td>\n",
              "      <td>0.000000</td>\n",
              "      <td>0.128687</td>\n",
              "      <td>0.056471</td>\n",
              "      <td>-0.056471</td>\n",
              "      <td>...</td>\n",
              "      <td>0.0</td>\n",
              "      <td>0.0</td>\n",
              "      <td>0.0</td>\n",
              "      <td>0.0</td>\n",
              "      <td>0.0</td>\n",
              "      <td>0.0</td>\n",
              "      <td>0.0</td>\n",
              "      <td>0.0</td>\n",
              "      <td>5.0</td>\n",
              "      <td>Neutral</td>\n",
              "    </tr>\n",
              "  </tbody>\n",
              "</table>\n",
              "<p>5 rows × 54 columns</p>\n",
              "</div>\n",
              "    <div class=\"colab-df-buttons\">\n",
              "\n",
              "  <div class=\"colab-df-container\">\n",
              "    <button class=\"colab-df-convert\" onclick=\"convertToInteractive('df-5338e6b5-0420-4048-a83c-08db46b7fae5')\"\n",
              "            title=\"Convert this dataframe to an interactive table.\"\n",
              "            style=\"display:none;\">\n",
              "\n",
              "  <svg xmlns=\"http://www.w3.org/2000/svg\" height=\"24px\" viewBox=\"0 -960 960 960\">\n",
              "    <path d=\"M120-120v-720h720v720H120Zm60-500h600v-160H180v160Zm220 220h160v-160H400v160Zm0 220h160v-160H400v160ZM180-400h160v-160H180v160Zm440 0h160v-160H620v160ZM180-180h160v-160H180v160Zm440 0h160v-160H620v160Z\"/>\n",
              "  </svg>\n",
              "    </button>\n",
              "\n",
              "  <style>\n",
              "    .colab-df-container {\n",
              "      display:flex;\n",
              "      gap: 12px;\n",
              "    }\n",
              "\n",
              "    .colab-df-convert {\n",
              "      background-color: #E8F0FE;\n",
              "      border: none;\n",
              "      border-radius: 50%;\n",
              "      cursor: pointer;\n",
              "      display: none;\n",
              "      fill: #1967D2;\n",
              "      height: 32px;\n",
              "      padding: 0 0 0 0;\n",
              "      width: 32px;\n",
              "    }\n",
              "\n",
              "    .colab-df-convert:hover {\n",
              "      background-color: #E2EBFA;\n",
              "      box-shadow: 0px 1px 2px rgba(60, 64, 67, 0.3), 0px 1px 3px 1px rgba(60, 64, 67, 0.15);\n",
              "      fill: #174EA6;\n",
              "    }\n",
              "\n",
              "    .colab-df-buttons div {\n",
              "      margin-bottom: 4px;\n",
              "    }\n",
              "\n",
              "    [theme=dark] .colab-df-convert {\n",
              "      background-color: #3B4455;\n",
              "      fill: #D2E3FC;\n",
              "    }\n",
              "\n",
              "    [theme=dark] .colab-df-convert:hover {\n",
              "      background-color: #434B5C;\n",
              "      box-shadow: 0px 1px 3px 1px rgba(0, 0, 0, 0.15);\n",
              "      filter: drop-shadow(0px 1px 2px rgba(0, 0, 0, 0.3));\n",
              "      fill: #FFFFFF;\n",
              "    }\n",
              "  </style>\n",
              "\n",
              "    <script>\n",
              "      const buttonEl =\n",
              "        document.querySelector('#df-5338e6b5-0420-4048-a83c-08db46b7fae5 button.colab-df-convert');\n",
              "      buttonEl.style.display =\n",
              "        google.colab.kernel.accessAllowed ? 'block' : 'none';\n",
              "\n",
              "      async function convertToInteractive(key) {\n",
              "        const element = document.querySelector('#df-5338e6b5-0420-4048-a83c-08db46b7fae5');\n",
              "        const dataTable =\n",
              "          await google.colab.kernel.invokeFunction('convertToInteractive',\n",
              "                                                    [key], {});\n",
              "        if (!dataTable) return;\n",
              "\n",
              "        const docLinkHtml = 'Like what you see? Visit the ' +\n",
              "          '<a target=\"_blank\" href=https://colab.research.google.com/notebooks/data_table.ipynb>data table notebook</a>'\n",
              "          + ' to learn more about interactive tables.';\n",
              "        element.innerHTML = '';\n",
              "        dataTable['output_type'] = 'display_data';\n",
              "        await google.colab.output.renderOutput(dataTable, element);\n",
              "        const docLink = document.createElement('div');\n",
              "        docLink.innerHTML = docLinkHtml;\n",
              "        element.appendChild(docLink);\n",
              "      }\n",
              "    </script>\n",
              "  </div>\n",
              "\n",
              "\n",
              "<div id=\"df-caf0cd33-b1ca-4d38-b4f7-eac97ed26c72\">\n",
              "  <button class=\"colab-df-quickchart\" onclick=\"quickchart('df-caf0cd33-b1ca-4d38-b4f7-eac97ed26c72')\"\n",
              "            title=\"Suggest charts\"\n",
              "            style=\"display:none;\">\n",
              "\n",
              "<svg xmlns=\"http://www.w3.org/2000/svg\" height=\"24px\"viewBox=\"0 0 24 24\"\n",
              "     width=\"24px\">\n",
              "    <g>\n",
              "        <path d=\"M19 3H5c-1.1 0-2 .9-2 2v14c0 1.1.9 2 2 2h14c1.1 0 2-.9 2-2V5c0-1.1-.9-2-2-2zM9 17H7v-7h2v7zm4 0h-2V7h2v10zm4 0h-2v-4h2v4z\"/>\n",
              "    </g>\n",
              "</svg>\n",
              "  </button>\n",
              "\n",
              "<style>\n",
              "  .colab-df-quickchart {\n",
              "      --bg-color: #E8F0FE;\n",
              "      --fill-color: #1967D2;\n",
              "      --hover-bg-color: #E2EBFA;\n",
              "      --hover-fill-color: #174EA6;\n",
              "      --disabled-fill-color: #AAA;\n",
              "      --disabled-bg-color: #DDD;\n",
              "  }\n",
              "\n",
              "  [theme=dark] .colab-df-quickchart {\n",
              "      --bg-color: #3B4455;\n",
              "      --fill-color: #D2E3FC;\n",
              "      --hover-bg-color: #434B5C;\n",
              "      --hover-fill-color: #FFFFFF;\n",
              "      --disabled-bg-color: #3B4455;\n",
              "      --disabled-fill-color: #666;\n",
              "  }\n",
              "\n",
              "  .colab-df-quickchart {\n",
              "    background-color: var(--bg-color);\n",
              "    border: none;\n",
              "    border-radius: 50%;\n",
              "    cursor: pointer;\n",
              "    display: none;\n",
              "    fill: var(--fill-color);\n",
              "    height: 32px;\n",
              "    padding: 0;\n",
              "    width: 32px;\n",
              "  }\n",
              "\n",
              "  .colab-df-quickchart:hover {\n",
              "    background-color: var(--hover-bg-color);\n",
              "    box-shadow: 0 1px 2px rgba(60, 64, 67, 0.3), 0 1px 3px 1px rgba(60, 64, 67, 0.15);\n",
              "    fill: var(--button-hover-fill-color);\n",
              "  }\n",
              "\n",
              "  .colab-df-quickchart-complete:disabled,\n",
              "  .colab-df-quickchart-complete:disabled:hover {\n",
              "    background-color: var(--disabled-bg-color);\n",
              "    fill: var(--disabled-fill-color);\n",
              "    box-shadow: none;\n",
              "  }\n",
              "\n",
              "  .colab-df-spinner {\n",
              "    border: 2px solid var(--fill-color);\n",
              "    border-color: transparent;\n",
              "    border-bottom-color: var(--fill-color);\n",
              "    animation:\n",
              "      spin 1s steps(1) infinite;\n",
              "  }\n",
              "\n",
              "  @keyframes spin {\n",
              "    0% {\n",
              "      border-color: transparent;\n",
              "      border-bottom-color: var(--fill-color);\n",
              "      border-left-color: var(--fill-color);\n",
              "    }\n",
              "    20% {\n",
              "      border-color: transparent;\n",
              "      border-left-color: var(--fill-color);\n",
              "      border-top-color: var(--fill-color);\n",
              "    }\n",
              "    30% {\n",
              "      border-color: transparent;\n",
              "      border-left-color: var(--fill-color);\n",
              "      border-top-color: var(--fill-color);\n",
              "      border-right-color: var(--fill-color);\n",
              "    }\n",
              "    40% {\n",
              "      border-color: transparent;\n",
              "      border-right-color: var(--fill-color);\n",
              "      border-top-color: var(--fill-color);\n",
              "    }\n",
              "    60% {\n",
              "      border-color: transparent;\n",
              "      border-right-color: var(--fill-color);\n",
              "    }\n",
              "    80% {\n",
              "      border-color: transparent;\n",
              "      border-right-color: var(--fill-color);\n",
              "      border-bottom-color: var(--fill-color);\n",
              "    }\n",
              "    90% {\n",
              "      border-color: transparent;\n",
              "      border-bottom-color: var(--fill-color);\n",
              "    }\n",
              "  }\n",
              "</style>\n",
              "\n",
              "  <script>\n",
              "    async function quickchart(key) {\n",
              "      const quickchartButtonEl =\n",
              "        document.querySelector('#' + key + ' button');\n",
              "      quickchartButtonEl.disabled = true;  // To prevent multiple clicks.\n",
              "      quickchartButtonEl.classList.add('colab-df-spinner');\n",
              "      try {\n",
              "        const charts = await google.colab.kernel.invokeFunction(\n",
              "            'suggestCharts', [key], {});\n",
              "      } catch (error) {\n",
              "        console.error('Error during call to suggestCharts:', error);\n",
              "      }\n",
              "      quickchartButtonEl.classList.remove('colab-df-spinner');\n",
              "      quickchartButtonEl.classList.add('colab-df-quickchart-complete');\n",
              "    }\n",
              "    (() => {\n",
              "      let quickchartButtonEl =\n",
              "        document.querySelector('#df-caf0cd33-b1ca-4d38-b4f7-eac97ed26c72 button');\n",
              "      quickchartButtonEl.style.display =\n",
              "        google.colab.kernel.accessAllowed ? 'block' : 'none';\n",
              "    })();\n",
              "  </script>\n",
              "</div>\n",
              "    </div>\n",
              "  </div>\n"
            ],
            "application/vnd.google.colaboratory.intrinsic+json": {
              "type": "dataframe",
              "variable_name": "df"
            }
          },
          "metadata": {},
          "execution_count": 13
        }
      ]
    },
    {
      "cell_type": "code",
      "source": [
        "df.info()"
      ],
      "metadata": {
        "colab": {
          "base_uri": "https://localhost:8080/"
        },
        "id": "4LvF16H_CVEt",
        "outputId": "3207d4ec-abaa-4cdf-df0a-44d933cef371"
      },
      "execution_count": null,
      "outputs": [
        {
          "output_type": "stream",
          "name": "stdout",
          "text": [
            "<class 'pandas.core.frame.DataFrame'>\n",
            "RangeIndex: 497 entries, 0 to 496\n",
            "Data columns (total 54 columns):\n",
            " #   Column                  Non-Null Count  Dtype  \n",
            "---  ------                  --------------  -----  \n",
            " 0   Eye_Left_Blink          497 non-null    float64\n",
            " 1   Eye_Left_Wide           497 non-null    float64\n",
            " 2   Eye_Left_Right          497 non-null    float64\n",
            " 3   Eye_Left_Left           497 non-null    float64\n",
            " 4   Eye_Left_Up             497 non-null    float64\n",
            " 5   Eye_Left_Down           497 non-null    float64\n",
            " 6   Eye_Right_Blink         497 non-null    float64\n",
            " 7   Eye_Right_Wide          497 non-null    float64\n",
            " 8   Eye_Right_Right         497 non-null    float64\n",
            " 9   Eye_Right_Left          497 non-null    float64\n",
            " 10  Eye_Right_Up            497 non-null    float64\n",
            " 11  Eye_Right_Down          497 non-null    float64\n",
            " 12  Eye_Frown               497 non-null    float64\n",
            " 13  Eye_Left_Squeeze        497 non-null    float64\n",
            " 14  Eye_Right_Squeeze       497 non-null    float64\n",
            " 15  Jaw_Right               497 non-null    float64\n",
            " 16  Jaw_Left                497 non-null    float64\n",
            " 17  Jaw_Forward             497 non-null    float64\n",
            " 18  Jaw_Open                497 non-null    float64\n",
            " 19  Mouth_Ape_Shape         497 non-null    float64\n",
            " 20  Mouth_Upper_Right       497 non-null    float64\n",
            " 21  Mouth_Upper_Left        497 non-null    float64\n",
            " 22  Mouth_Lower_Right       497 non-null    float64\n",
            " 23  Mouth_Lower_Left        497 non-null    float64\n",
            " 24  Mouth_Upper_Overturn    497 non-null    float64\n",
            " 25  Mouth_Lower_Overturn    497 non-null    float64\n",
            " 26  Mouth_Pout              497 non-null    float64\n",
            " 27  Mouth_Smile_Right       497 non-null    float64\n",
            " 28  Mouth_Smile_Left        497 non-null    float64\n",
            " 29  Mouth_Sad_Right         497 non-null    float64\n",
            " 30  Mouth_Sad_Left          497 non-null    float64\n",
            " 31  Cheek_Puff_Right        497 non-null    float64\n",
            " 32  Cheek_Puff_Left         497 non-null    float64\n",
            " 33  Cheek_Suck              497 non-null    float64\n",
            " 34  Mouth_Upper_UpRight     497 non-null    float64\n",
            " 35  Mouth_Upper_UpLeft      497 non-null    float64\n",
            " 36  Mouth_Lower_DownRight   497 non-null    float64\n",
            " 37  Mouth_Lower_DownLeft    497 non-null    float64\n",
            " 38  Mouth_Upper_Inside      497 non-null    float64\n",
            " 39  Mouth_Lower_Inside      497 non-null    float64\n",
            " 40  Mouth_Lower_Overlay     497 non-null    float64\n",
            " 41  Tongue_LongStep1        497 non-null    float64\n",
            " 42  Tongue_Left             497 non-null    float64\n",
            " 43  Tongue_Right            497 non-null    float64\n",
            " 44  Tongue_Up               497 non-null    float64\n",
            " 45  Tongue_Down             497 non-null    float64\n",
            " 46  Tongue_Roll             497 non-null    float64\n",
            " 47  Tongue_LongStep2        497 non-null    float64\n",
            " 48  Tongue_UpRight_Morph    497 non-null    float64\n",
            " 49  Tongue_UpLeft_Morph     497 non-null    float64\n",
            " 50  Tongue_DownRight_Morph  497 non-null    float64\n",
            " 51  Tongue_DownLeft_Morph   497 non-null    float64\n",
            " 52  EmotionNum              497 non-null    float64\n",
            " 53  Emotion                 497 non-null    object \n",
            "dtypes: float64(53), object(1)\n",
            "memory usage: 209.8+ KB\n"
          ]
        }
      ]
    },
    {
      "cell_type": "code",
      "source": [
        "df['EmotionNum'] = df['EmotionNum'].astype(int)"
      ],
      "metadata": {
        "id": "2FsibiffCf5-"
      },
      "execution_count": null,
      "outputs": []
    },
    {
      "cell_type": "code",
      "source": [
        "df.describe()"
      ],
      "metadata": {
        "colab": {
          "base_uri": "https://localhost:8080/",
          "height": 317
        },
        "id": "dqHWq67UDojS",
        "outputId": "c65b4fb3-bc19-4291-8675-8b0413497a4c"
      },
      "execution_count": null,
      "outputs": [
        {
          "output_type": "execute_result",
          "data": {
            "text/plain": [
              "       Eye_Left_Blink  Eye_Left_Wide  Eye_Left_Right  Eye_Left_Left  Eye_Left_Up  Eye_Left_Down  Eye_Right_Blink  Eye_Right_Wide  Eye_Right_Right  Eye_Right_Left  Eye_Right_Up  Eye_Right_Down  Eye_Frown  Eye_Left_Squeeze  Eye_Right_Squeeze   Jaw_Right    Jaw_Left  Jaw_Forward    Jaw_Open  Mouth_Ape_Shape  Mouth_Upper_Right  Mouth_Upper_Left  Mouth_Lower_Right  Mouth_Lower_Left  Mouth_Upper_Overturn  Mouth_Lower_Overturn  Mouth_Pout  Mouth_Smile_Right  Mouth_Smile_Left  Mouth_Sad_Right  Mouth_Sad_Left  Cheek_Puff_Right  Cheek_Puff_Left  Cheek_Suck  Mouth_Upper_UpRight  Mouth_Upper_UpLeft  Mouth_Lower_DownRight  Mouth_Lower_DownLeft  Mouth_Upper_Inside  Mouth_Lower_Inside  Mouth_Lower_Overlay  Tongue_LongStep1  Tongue_Left  Tongue_Right   Tongue_Up  Tongue_Down  Tongue_Roll  Tongue_LongStep2  Tongue_UpRight_Morph  Tongue_UpLeft_Morph  Tongue_DownRight_Morph  Tongue_DownLeft_Morph  EmotionNum\n",
              "count      497.000000     497.000000      497.000000     497.000000   497.000000     497.000000       497.000000      497.000000       497.000000      497.000000    497.000000      497.000000      497.0             497.0              497.0  497.000000  497.000000   497.000000  497.000000       497.000000         497.000000        497.000000         497.000000        497.000000            497.000000            497.000000  497.000000         497.000000        497.000000       497.000000      497.000000        497.000000       497.000000  497.000000           497.000000          497.000000             497.000000            497.000000          497.000000          497.000000           497.000000        497.000000   497.000000    497.000000  497.000000   497.000000   497.000000        497.000000            497.000000           497.000000                   497.0                  497.0  497.000000\n",
              "mean         0.075020       0.209123        0.055040      -0.055040     0.209123       0.047838         0.095617        0.202230         0.055110       -0.055110      0.202230        0.047922        0.0               0.0                0.0    0.025500    0.039215     0.074938    0.103381         0.006707           0.030531          0.040166           0.036911          0.051218              0.011780              0.008742    0.012017           0.092679          0.084979         0.093779        0.096092          0.013227         0.022980    0.000012             0.141821            0.142289               0.078023              0.078888            0.021694            0.043828             0.043917          0.013013     0.000289      0.000191    0.003317     0.000031     0.002035          0.000443              0.000011             0.000050                     0.0                    0.0    4.000000\n",
              "std          0.157980       0.225849        0.065158       0.065158     0.225849       0.058874         0.185006        0.223533         0.065112        0.065112      0.223533        0.058861        0.0               0.0                0.0    0.041687    0.055948     0.113380    0.224974         0.042454           0.047582          0.051988           0.059828          0.064420              0.062852              0.054035    0.067211           0.238336          0.229542         0.202426        0.202824          0.064722         0.098815    0.000187             0.237882            0.238214               0.196404              0.197352            0.084784            0.120127             0.146108          0.076451     0.004596      0.002719    0.020483     0.000697     0.017224          0.007027              0.000164             0.000821                     0.0                    0.0    2.002015\n",
              "min          0.000000       0.000000        0.000000      -0.296652     0.000000       0.000000         0.000000        0.000000         0.000000       -0.295139      0.000000        0.000000        0.0               0.0                0.0    0.000000    0.000000     0.000000    0.000000         0.000000           0.000000          0.000000           0.000000          0.000000              0.000000              0.000000    0.000000           0.000000          0.000000         0.000000        0.000000          0.000000         0.000000    0.000000             0.000000            0.000000               0.000000              0.000000            0.000000            0.000000             0.000000          0.000000     0.000000      0.000000    0.000000     0.000000     0.000000          0.000000              0.000000             0.000000                     0.0                    0.0    1.000000\n",
              "25%          0.000000       0.009560        0.008703      -0.062773     0.009560       0.000000         0.000000        0.006434         0.008751       -0.062773      0.006434        0.000000        0.0               0.0                0.0    0.000000    0.000000     0.000000    0.000000         0.000000           0.000000          0.000000           0.000000          0.000000              0.000000              0.000000    0.000000           0.000000          0.000000         0.000000        0.000000          0.000000         0.000000    0.000000             0.000000            0.000000               0.000000              0.000000            0.000000            0.000000             0.000000          0.000000     0.000000      0.000000    0.000000     0.000000     0.000000          0.000000              0.000000             0.000000                     0.0                    0.0    2.000000\n",
              "50%          0.000500       0.128478        0.037073      -0.037073     0.128478       0.021858         0.002196        0.118086         0.037073       -0.037073      0.118086        0.023205        0.0               0.0                0.0    0.003708    0.016197     0.012874    0.000000         0.000000           0.002995          0.016057           0.003757          0.021563              0.000000              0.000000    0.000000           0.000000          0.000000         0.000000        0.000000          0.000000         0.000000    0.000000             0.000000            0.000000               0.000000              0.000000            0.000000            0.000000             0.000000          0.000000     0.000000      0.000000    0.000000     0.000000     0.000000          0.000000              0.000000             0.000000                     0.0                    0.0    4.000000\n",
              "75%          0.079512       0.352503        0.062773      -0.008703     0.352503       0.075142         0.106530        0.335093         0.062773       -0.008751      0.335093        0.075142        0.0               0.0                0.0    0.035719    0.056868     0.114129    0.025777         0.000000           0.048368          0.065190           0.054720          0.088549              0.000000              0.000000    0.000000           0.000000          0.000000         0.047850        0.067917          0.000000         0.000000    0.000000             0.217980            0.222017               0.001301              0.001695            0.000000            0.000008             0.000000          0.000000     0.000000      0.000000    0.000000     0.000000     0.000000          0.000000              0.000000             0.000000                     0.0                    0.0    6.000000\n",
              "max          0.915191       0.896560        0.296652       0.000000     0.896560       0.241903         0.984762        0.896560         0.295139        0.000000      0.896560        0.241903        0.0               0.0                0.0    0.262377    0.385842     0.660430    0.990154         0.646774           0.294167          0.251218           0.386188          0.329200              0.659650              0.658372    0.943814           0.984666          0.973213         0.942133        0.942555          0.547284         0.742763    0.003851             0.928184            0.927310               0.932302              0.964055            0.963150            0.956681             0.916572          0.765446     0.093847      0.044792    0.201030     0.015539     0.257241          0.142451              0.003251             0.016869                     0.0                    0.0    7.000000"
            ],
            "text/html": [
              "\n",
              "  <div id=\"df-537f14aa-689d-4f40-9489-255b5339bb6e\" class=\"colab-df-container\">\n",
              "    <div>\n",
              "<style scoped>\n",
              "    .dataframe tbody tr th:only-of-type {\n",
              "        vertical-align: middle;\n",
              "    }\n",
              "\n",
              "    .dataframe tbody tr th {\n",
              "        vertical-align: top;\n",
              "    }\n",
              "\n",
              "    .dataframe thead th {\n",
              "        text-align: right;\n",
              "    }\n",
              "</style>\n",
              "<table border=\"1\" class=\"dataframe\">\n",
              "  <thead>\n",
              "    <tr style=\"text-align: right;\">\n",
              "      <th></th>\n",
              "      <th>Eye_Left_Blink</th>\n",
              "      <th>Eye_Left_Wide</th>\n",
              "      <th>Eye_Left_Right</th>\n",
              "      <th>Eye_Left_Left</th>\n",
              "      <th>Eye_Left_Up</th>\n",
              "      <th>Eye_Left_Down</th>\n",
              "      <th>Eye_Right_Blink</th>\n",
              "      <th>Eye_Right_Wide</th>\n",
              "      <th>Eye_Right_Right</th>\n",
              "      <th>Eye_Right_Left</th>\n",
              "      <th>Eye_Right_Up</th>\n",
              "      <th>Eye_Right_Down</th>\n",
              "      <th>Eye_Frown</th>\n",
              "      <th>Eye_Left_Squeeze</th>\n",
              "      <th>Eye_Right_Squeeze</th>\n",
              "      <th>Jaw_Right</th>\n",
              "      <th>Jaw_Left</th>\n",
              "      <th>Jaw_Forward</th>\n",
              "      <th>Jaw_Open</th>\n",
              "      <th>Mouth_Ape_Shape</th>\n",
              "      <th>Mouth_Upper_Right</th>\n",
              "      <th>Mouth_Upper_Left</th>\n",
              "      <th>Mouth_Lower_Right</th>\n",
              "      <th>Mouth_Lower_Left</th>\n",
              "      <th>Mouth_Upper_Overturn</th>\n",
              "      <th>Mouth_Lower_Overturn</th>\n",
              "      <th>Mouth_Pout</th>\n",
              "      <th>Mouth_Smile_Right</th>\n",
              "      <th>Mouth_Smile_Left</th>\n",
              "      <th>Mouth_Sad_Right</th>\n",
              "      <th>Mouth_Sad_Left</th>\n",
              "      <th>Cheek_Puff_Right</th>\n",
              "      <th>Cheek_Puff_Left</th>\n",
              "      <th>Cheek_Suck</th>\n",
              "      <th>Mouth_Upper_UpRight</th>\n",
              "      <th>Mouth_Upper_UpLeft</th>\n",
              "      <th>Mouth_Lower_DownRight</th>\n",
              "      <th>Mouth_Lower_DownLeft</th>\n",
              "      <th>Mouth_Upper_Inside</th>\n",
              "      <th>Mouth_Lower_Inside</th>\n",
              "      <th>Mouth_Lower_Overlay</th>\n",
              "      <th>Tongue_LongStep1</th>\n",
              "      <th>Tongue_Left</th>\n",
              "      <th>Tongue_Right</th>\n",
              "      <th>Tongue_Up</th>\n",
              "      <th>Tongue_Down</th>\n",
              "      <th>Tongue_Roll</th>\n",
              "      <th>Tongue_LongStep2</th>\n",
              "      <th>Tongue_UpRight_Morph</th>\n",
              "      <th>Tongue_UpLeft_Morph</th>\n",
              "      <th>Tongue_DownRight_Morph</th>\n",
              "      <th>Tongue_DownLeft_Morph</th>\n",
              "      <th>EmotionNum</th>\n",
              "    </tr>\n",
              "  </thead>\n",
              "  <tbody>\n",
              "    <tr>\n",
              "      <th>count</th>\n",
              "      <td>497.000000</td>\n",
              "      <td>497.000000</td>\n",
              "      <td>497.000000</td>\n",
              "      <td>497.000000</td>\n",
              "      <td>497.000000</td>\n",
              "      <td>497.000000</td>\n",
              "      <td>497.000000</td>\n",
              "      <td>497.000000</td>\n",
              "      <td>497.000000</td>\n",
              "      <td>497.000000</td>\n",
              "      <td>497.000000</td>\n",
              "      <td>497.000000</td>\n",
              "      <td>497.0</td>\n",
              "      <td>497.0</td>\n",
              "      <td>497.0</td>\n",
              "      <td>497.000000</td>\n",
              "      <td>497.000000</td>\n",
              "      <td>497.000000</td>\n",
              "      <td>497.000000</td>\n",
              "      <td>497.000000</td>\n",
              "      <td>497.000000</td>\n",
              "      <td>497.000000</td>\n",
              "      <td>497.000000</td>\n",
              "      <td>497.000000</td>\n",
              "      <td>497.000000</td>\n",
              "      <td>497.000000</td>\n",
              "      <td>497.000000</td>\n",
              "      <td>497.000000</td>\n",
              "      <td>497.000000</td>\n",
              "      <td>497.000000</td>\n",
              "      <td>497.000000</td>\n",
              "      <td>497.000000</td>\n",
              "      <td>497.000000</td>\n",
              "      <td>497.000000</td>\n",
              "      <td>497.000000</td>\n",
              "      <td>497.000000</td>\n",
              "      <td>497.000000</td>\n",
              "      <td>497.000000</td>\n",
              "      <td>497.000000</td>\n",
              "      <td>497.000000</td>\n",
              "      <td>497.000000</td>\n",
              "      <td>497.000000</td>\n",
              "      <td>497.000000</td>\n",
              "      <td>497.000000</td>\n",
              "      <td>497.000000</td>\n",
              "      <td>497.000000</td>\n",
              "      <td>497.000000</td>\n",
              "      <td>497.000000</td>\n",
              "      <td>497.000000</td>\n",
              "      <td>497.000000</td>\n",
              "      <td>497.0</td>\n",
              "      <td>497.0</td>\n",
              "      <td>497.000000</td>\n",
              "    </tr>\n",
              "    <tr>\n",
              "      <th>mean</th>\n",
              "      <td>0.075020</td>\n",
              "      <td>0.209123</td>\n",
              "      <td>0.055040</td>\n",
              "      <td>-0.055040</td>\n",
              "      <td>0.209123</td>\n",
              "      <td>0.047838</td>\n",
              "      <td>0.095617</td>\n",
              "      <td>0.202230</td>\n",
              "      <td>0.055110</td>\n",
              "      <td>-0.055110</td>\n",
              "      <td>0.202230</td>\n",
              "      <td>0.047922</td>\n",
              "      <td>0.0</td>\n",
              "      <td>0.0</td>\n",
              "      <td>0.0</td>\n",
              "      <td>0.025500</td>\n",
              "      <td>0.039215</td>\n",
              "      <td>0.074938</td>\n",
              "      <td>0.103381</td>\n",
              "      <td>0.006707</td>\n",
              "      <td>0.030531</td>\n",
              "      <td>0.040166</td>\n",
              "      <td>0.036911</td>\n",
              "      <td>0.051218</td>\n",
              "      <td>0.011780</td>\n",
              "      <td>0.008742</td>\n",
              "      <td>0.012017</td>\n",
              "      <td>0.092679</td>\n",
              "      <td>0.084979</td>\n",
              "      <td>0.093779</td>\n",
              "      <td>0.096092</td>\n",
              "      <td>0.013227</td>\n",
              "      <td>0.022980</td>\n",
              "      <td>0.000012</td>\n",
              "      <td>0.141821</td>\n",
              "      <td>0.142289</td>\n",
              "      <td>0.078023</td>\n",
              "      <td>0.078888</td>\n",
              "      <td>0.021694</td>\n",
              "      <td>0.043828</td>\n",
              "      <td>0.043917</td>\n",
              "      <td>0.013013</td>\n",
              "      <td>0.000289</td>\n",
              "      <td>0.000191</td>\n",
              "      <td>0.003317</td>\n",
              "      <td>0.000031</td>\n",
              "      <td>0.002035</td>\n",
              "      <td>0.000443</td>\n",
              "      <td>0.000011</td>\n",
              "      <td>0.000050</td>\n",
              "      <td>0.0</td>\n",
              "      <td>0.0</td>\n",
              "      <td>4.000000</td>\n",
              "    </tr>\n",
              "    <tr>\n",
              "      <th>std</th>\n",
              "      <td>0.157980</td>\n",
              "      <td>0.225849</td>\n",
              "      <td>0.065158</td>\n",
              "      <td>0.065158</td>\n",
              "      <td>0.225849</td>\n",
              "      <td>0.058874</td>\n",
              "      <td>0.185006</td>\n",
              "      <td>0.223533</td>\n",
              "      <td>0.065112</td>\n",
              "      <td>0.065112</td>\n",
              "      <td>0.223533</td>\n",
              "      <td>0.058861</td>\n",
              "      <td>0.0</td>\n",
              "      <td>0.0</td>\n",
              "      <td>0.0</td>\n",
              "      <td>0.041687</td>\n",
              "      <td>0.055948</td>\n",
              "      <td>0.113380</td>\n",
              "      <td>0.224974</td>\n",
              "      <td>0.042454</td>\n",
              "      <td>0.047582</td>\n",
              "      <td>0.051988</td>\n",
              "      <td>0.059828</td>\n",
              "      <td>0.064420</td>\n",
              "      <td>0.062852</td>\n",
              "      <td>0.054035</td>\n",
              "      <td>0.067211</td>\n",
              "      <td>0.238336</td>\n",
              "      <td>0.229542</td>\n",
              "      <td>0.202426</td>\n",
              "      <td>0.202824</td>\n",
              "      <td>0.064722</td>\n",
              "      <td>0.098815</td>\n",
              "      <td>0.000187</td>\n",
              "      <td>0.237882</td>\n",
              "      <td>0.238214</td>\n",
              "      <td>0.196404</td>\n",
              "      <td>0.197352</td>\n",
              "      <td>0.084784</td>\n",
              "      <td>0.120127</td>\n",
              "      <td>0.146108</td>\n",
              "      <td>0.076451</td>\n",
              "      <td>0.004596</td>\n",
              "      <td>0.002719</td>\n",
              "      <td>0.020483</td>\n",
              "      <td>0.000697</td>\n",
              "      <td>0.017224</td>\n",
              "      <td>0.007027</td>\n",
              "      <td>0.000164</td>\n",
              "      <td>0.000821</td>\n",
              "      <td>0.0</td>\n",
              "      <td>0.0</td>\n",
              "      <td>2.002015</td>\n",
              "    </tr>\n",
              "    <tr>\n",
              "      <th>min</th>\n",
              "      <td>0.000000</td>\n",
              "      <td>0.000000</td>\n",
              "      <td>0.000000</td>\n",
              "      <td>-0.296652</td>\n",
              "      <td>0.000000</td>\n",
              "      <td>0.000000</td>\n",
              "      <td>0.000000</td>\n",
              "      <td>0.000000</td>\n",
              "      <td>0.000000</td>\n",
              "      <td>-0.295139</td>\n",
              "      <td>0.000000</td>\n",
              "      <td>0.000000</td>\n",
              "      <td>0.0</td>\n",
              "      <td>0.0</td>\n",
              "      <td>0.0</td>\n",
              "      <td>0.000000</td>\n",
              "      <td>0.000000</td>\n",
              "      <td>0.000000</td>\n",
              "      <td>0.000000</td>\n",
              "      <td>0.000000</td>\n",
              "      <td>0.000000</td>\n",
              "      <td>0.000000</td>\n",
              "      <td>0.000000</td>\n",
              "      <td>0.000000</td>\n",
              "      <td>0.000000</td>\n",
              "      <td>0.000000</td>\n",
              "      <td>0.000000</td>\n",
              "      <td>0.000000</td>\n",
              "      <td>0.000000</td>\n",
              "      <td>0.000000</td>\n",
              "      <td>0.000000</td>\n",
              "      <td>0.000000</td>\n",
              "      <td>0.000000</td>\n",
              "      <td>0.000000</td>\n",
              "      <td>0.000000</td>\n",
              "      <td>0.000000</td>\n",
              "      <td>0.000000</td>\n",
              "      <td>0.000000</td>\n",
              "      <td>0.000000</td>\n",
              "      <td>0.000000</td>\n",
              "      <td>0.000000</td>\n",
              "      <td>0.000000</td>\n",
              "      <td>0.000000</td>\n",
              "      <td>0.000000</td>\n",
              "      <td>0.000000</td>\n",
              "      <td>0.000000</td>\n",
              "      <td>0.000000</td>\n",
              "      <td>0.000000</td>\n",
              "      <td>0.000000</td>\n",
              "      <td>0.000000</td>\n",
              "      <td>0.0</td>\n",
              "      <td>0.0</td>\n",
              "      <td>1.000000</td>\n",
              "    </tr>\n",
              "    <tr>\n",
              "      <th>25%</th>\n",
              "      <td>0.000000</td>\n",
              "      <td>0.009560</td>\n",
              "      <td>0.008703</td>\n",
              "      <td>-0.062773</td>\n",
              "      <td>0.009560</td>\n",
              "      <td>0.000000</td>\n",
              "      <td>0.000000</td>\n",
              "      <td>0.006434</td>\n",
              "      <td>0.008751</td>\n",
              "      <td>-0.062773</td>\n",
              "      <td>0.006434</td>\n",
              "      <td>0.000000</td>\n",
              "      <td>0.0</td>\n",
              "      <td>0.0</td>\n",
              "      <td>0.0</td>\n",
              "      <td>0.000000</td>\n",
              "      <td>0.000000</td>\n",
              "      <td>0.000000</td>\n",
              "      <td>0.000000</td>\n",
              "      <td>0.000000</td>\n",
              "      <td>0.000000</td>\n",
              "      <td>0.000000</td>\n",
              "      <td>0.000000</td>\n",
              "      <td>0.000000</td>\n",
              "      <td>0.000000</td>\n",
              "      <td>0.000000</td>\n",
              "      <td>0.000000</td>\n",
              "      <td>0.000000</td>\n",
              "      <td>0.000000</td>\n",
              "      <td>0.000000</td>\n",
              "      <td>0.000000</td>\n",
              "      <td>0.000000</td>\n",
              "      <td>0.000000</td>\n",
              "      <td>0.000000</td>\n",
              "      <td>0.000000</td>\n",
              "      <td>0.000000</td>\n",
              "      <td>0.000000</td>\n",
              "      <td>0.000000</td>\n",
              "      <td>0.000000</td>\n",
              "      <td>0.000000</td>\n",
              "      <td>0.000000</td>\n",
              "      <td>0.000000</td>\n",
              "      <td>0.000000</td>\n",
              "      <td>0.000000</td>\n",
              "      <td>0.000000</td>\n",
              "      <td>0.000000</td>\n",
              "      <td>0.000000</td>\n",
              "      <td>0.000000</td>\n",
              "      <td>0.000000</td>\n",
              "      <td>0.000000</td>\n",
              "      <td>0.0</td>\n",
              "      <td>0.0</td>\n",
              "      <td>2.000000</td>\n",
              "    </tr>\n",
              "    <tr>\n",
              "      <th>50%</th>\n",
              "      <td>0.000500</td>\n",
              "      <td>0.128478</td>\n",
              "      <td>0.037073</td>\n",
              "      <td>-0.037073</td>\n",
              "      <td>0.128478</td>\n",
              "      <td>0.021858</td>\n",
              "      <td>0.002196</td>\n",
              "      <td>0.118086</td>\n",
              "      <td>0.037073</td>\n",
              "      <td>-0.037073</td>\n",
              "      <td>0.118086</td>\n",
              "      <td>0.023205</td>\n",
              "      <td>0.0</td>\n",
              "      <td>0.0</td>\n",
              "      <td>0.0</td>\n",
              "      <td>0.003708</td>\n",
              "      <td>0.016197</td>\n",
              "      <td>0.012874</td>\n",
              "      <td>0.000000</td>\n",
              "      <td>0.000000</td>\n",
              "      <td>0.002995</td>\n",
              "      <td>0.016057</td>\n",
              "      <td>0.003757</td>\n",
              "      <td>0.021563</td>\n",
              "      <td>0.000000</td>\n",
              "      <td>0.000000</td>\n",
              "      <td>0.000000</td>\n",
              "      <td>0.000000</td>\n",
              "      <td>0.000000</td>\n",
              "      <td>0.000000</td>\n",
              "      <td>0.000000</td>\n",
              "      <td>0.000000</td>\n",
              "      <td>0.000000</td>\n",
              "      <td>0.000000</td>\n",
              "      <td>0.000000</td>\n",
              "      <td>0.000000</td>\n",
              "      <td>0.000000</td>\n",
              "      <td>0.000000</td>\n",
              "      <td>0.000000</td>\n",
              "      <td>0.000000</td>\n",
              "      <td>0.000000</td>\n",
              "      <td>0.000000</td>\n",
              "      <td>0.000000</td>\n",
              "      <td>0.000000</td>\n",
              "      <td>0.000000</td>\n",
              "      <td>0.000000</td>\n",
              "      <td>0.000000</td>\n",
              "      <td>0.000000</td>\n",
              "      <td>0.000000</td>\n",
              "      <td>0.000000</td>\n",
              "      <td>0.0</td>\n",
              "      <td>0.0</td>\n",
              "      <td>4.000000</td>\n",
              "    </tr>\n",
              "    <tr>\n",
              "      <th>75%</th>\n",
              "      <td>0.079512</td>\n",
              "      <td>0.352503</td>\n",
              "      <td>0.062773</td>\n",
              "      <td>-0.008703</td>\n",
              "      <td>0.352503</td>\n",
              "      <td>0.075142</td>\n",
              "      <td>0.106530</td>\n",
              "      <td>0.335093</td>\n",
              "      <td>0.062773</td>\n",
              "      <td>-0.008751</td>\n",
              "      <td>0.335093</td>\n",
              "      <td>0.075142</td>\n",
              "      <td>0.0</td>\n",
              "      <td>0.0</td>\n",
              "      <td>0.0</td>\n",
              "      <td>0.035719</td>\n",
              "      <td>0.056868</td>\n",
              "      <td>0.114129</td>\n",
              "      <td>0.025777</td>\n",
              "      <td>0.000000</td>\n",
              "      <td>0.048368</td>\n",
              "      <td>0.065190</td>\n",
              "      <td>0.054720</td>\n",
              "      <td>0.088549</td>\n",
              "      <td>0.000000</td>\n",
              "      <td>0.000000</td>\n",
              "      <td>0.000000</td>\n",
              "      <td>0.000000</td>\n",
              "      <td>0.000000</td>\n",
              "      <td>0.047850</td>\n",
              "      <td>0.067917</td>\n",
              "      <td>0.000000</td>\n",
              "      <td>0.000000</td>\n",
              "      <td>0.000000</td>\n",
              "      <td>0.217980</td>\n",
              "      <td>0.222017</td>\n",
              "      <td>0.001301</td>\n",
              "      <td>0.001695</td>\n",
              "      <td>0.000000</td>\n",
              "      <td>0.000008</td>\n",
              "      <td>0.000000</td>\n",
              "      <td>0.000000</td>\n",
              "      <td>0.000000</td>\n",
              "      <td>0.000000</td>\n",
              "      <td>0.000000</td>\n",
              "      <td>0.000000</td>\n",
              "      <td>0.000000</td>\n",
              "      <td>0.000000</td>\n",
              "      <td>0.000000</td>\n",
              "      <td>0.000000</td>\n",
              "      <td>0.0</td>\n",
              "      <td>0.0</td>\n",
              "      <td>6.000000</td>\n",
              "    </tr>\n",
              "    <tr>\n",
              "      <th>max</th>\n",
              "      <td>0.915191</td>\n",
              "      <td>0.896560</td>\n",
              "      <td>0.296652</td>\n",
              "      <td>0.000000</td>\n",
              "      <td>0.896560</td>\n",
              "      <td>0.241903</td>\n",
              "      <td>0.984762</td>\n",
              "      <td>0.896560</td>\n",
              "      <td>0.295139</td>\n",
              "      <td>0.000000</td>\n",
              "      <td>0.896560</td>\n",
              "      <td>0.241903</td>\n",
              "      <td>0.0</td>\n",
              "      <td>0.0</td>\n",
              "      <td>0.0</td>\n",
              "      <td>0.262377</td>\n",
              "      <td>0.385842</td>\n",
              "      <td>0.660430</td>\n",
              "      <td>0.990154</td>\n",
              "      <td>0.646774</td>\n",
              "      <td>0.294167</td>\n",
              "      <td>0.251218</td>\n",
              "      <td>0.386188</td>\n",
              "      <td>0.329200</td>\n",
              "      <td>0.659650</td>\n",
              "      <td>0.658372</td>\n",
              "      <td>0.943814</td>\n",
              "      <td>0.984666</td>\n",
              "      <td>0.973213</td>\n",
              "      <td>0.942133</td>\n",
              "      <td>0.942555</td>\n",
              "      <td>0.547284</td>\n",
              "      <td>0.742763</td>\n",
              "      <td>0.003851</td>\n",
              "      <td>0.928184</td>\n",
              "      <td>0.927310</td>\n",
              "      <td>0.932302</td>\n",
              "      <td>0.964055</td>\n",
              "      <td>0.963150</td>\n",
              "      <td>0.956681</td>\n",
              "      <td>0.916572</td>\n",
              "      <td>0.765446</td>\n",
              "      <td>0.093847</td>\n",
              "      <td>0.044792</td>\n",
              "      <td>0.201030</td>\n",
              "      <td>0.015539</td>\n",
              "      <td>0.257241</td>\n",
              "      <td>0.142451</td>\n",
              "      <td>0.003251</td>\n",
              "      <td>0.016869</td>\n",
              "      <td>0.0</td>\n",
              "      <td>0.0</td>\n",
              "      <td>7.000000</td>\n",
              "    </tr>\n",
              "  </tbody>\n",
              "</table>\n",
              "</div>\n",
              "    <div class=\"colab-df-buttons\">\n",
              "\n",
              "  <div class=\"colab-df-container\">\n",
              "    <button class=\"colab-df-convert\" onclick=\"convertToInteractive('df-537f14aa-689d-4f40-9489-255b5339bb6e')\"\n",
              "            title=\"Convert this dataframe to an interactive table.\"\n",
              "            style=\"display:none;\">\n",
              "\n",
              "  <svg xmlns=\"http://www.w3.org/2000/svg\" height=\"24px\" viewBox=\"0 -960 960 960\">\n",
              "    <path d=\"M120-120v-720h720v720H120Zm60-500h600v-160H180v160Zm220 220h160v-160H400v160Zm0 220h160v-160H400v160ZM180-400h160v-160H180v160Zm440 0h160v-160H620v160ZM180-180h160v-160H180v160Zm440 0h160v-160H620v160Z\"/>\n",
              "  </svg>\n",
              "    </button>\n",
              "\n",
              "  <style>\n",
              "    .colab-df-container {\n",
              "      display:flex;\n",
              "      gap: 12px;\n",
              "    }\n",
              "\n",
              "    .colab-df-convert {\n",
              "      background-color: #E8F0FE;\n",
              "      border: none;\n",
              "      border-radius: 50%;\n",
              "      cursor: pointer;\n",
              "      display: none;\n",
              "      fill: #1967D2;\n",
              "      height: 32px;\n",
              "      padding: 0 0 0 0;\n",
              "      width: 32px;\n",
              "    }\n",
              "\n",
              "    .colab-df-convert:hover {\n",
              "      background-color: #E2EBFA;\n",
              "      box-shadow: 0px 1px 2px rgba(60, 64, 67, 0.3), 0px 1px 3px 1px rgba(60, 64, 67, 0.15);\n",
              "      fill: #174EA6;\n",
              "    }\n",
              "\n",
              "    .colab-df-buttons div {\n",
              "      margin-bottom: 4px;\n",
              "    }\n",
              "\n",
              "    [theme=dark] .colab-df-convert {\n",
              "      background-color: #3B4455;\n",
              "      fill: #D2E3FC;\n",
              "    }\n",
              "\n",
              "    [theme=dark] .colab-df-convert:hover {\n",
              "      background-color: #434B5C;\n",
              "      box-shadow: 0px 1px 3px 1px rgba(0, 0, 0, 0.15);\n",
              "      filter: drop-shadow(0px 1px 2px rgba(0, 0, 0, 0.3));\n",
              "      fill: #FFFFFF;\n",
              "    }\n",
              "  </style>\n",
              "\n",
              "    <script>\n",
              "      const buttonEl =\n",
              "        document.querySelector('#df-537f14aa-689d-4f40-9489-255b5339bb6e button.colab-df-convert');\n",
              "      buttonEl.style.display =\n",
              "        google.colab.kernel.accessAllowed ? 'block' : 'none';\n",
              "\n",
              "      async function convertToInteractive(key) {\n",
              "        const element = document.querySelector('#df-537f14aa-689d-4f40-9489-255b5339bb6e');\n",
              "        const dataTable =\n",
              "          await google.colab.kernel.invokeFunction('convertToInteractive',\n",
              "                                                    [key], {});\n",
              "        if (!dataTable) return;\n",
              "\n",
              "        const docLinkHtml = 'Like what you see? Visit the ' +\n",
              "          '<a target=\"_blank\" href=https://colab.research.google.com/notebooks/data_table.ipynb>data table notebook</a>'\n",
              "          + ' to learn more about interactive tables.';\n",
              "        element.innerHTML = '';\n",
              "        dataTable['output_type'] = 'display_data';\n",
              "        await google.colab.output.renderOutput(dataTable, element);\n",
              "        const docLink = document.createElement('div');\n",
              "        docLink.innerHTML = docLinkHtml;\n",
              "        element.appendChild(docLink);\n",
              "      }\n",
              "    </script>\n",
              "  </div>\n",
              "\n",
              "\n",
              "<div id=\"df-89dc0479-f303-45b1-9f3b-a9e76d12d93d\">\n",
              "  <button class=\"colab-df-quickchart\" onclick=\"quickchart('df-89dc0479-f303-45b1-9f3b-a9e76d12d93d')\"\n",
              "            title=\"Suggest charts\"\n",
              "            style=\"display:none;\">\n",
              "\n",
              "<svg xmlns=\"http://www.w3.org/2000/svg\" height=\"24px\"viewBox=\"0 0 24 24\"\n",
              "     width=\"24px\">\n",
              "    <g>\n",
              "        <path d=\"M19 3H5c-1.1 0-2 .9-2 2v14c0 1.1.9 2 2 2h14c1.1 0 2-.9 2-2V5c0-1.1-.9-2-2-2zM9 17H7v-7h2v7zm4 0h-2V7h2v10zm4 0h-2v-4h2v4z\"/>\n",
              "    </g>\n",
              "</svg>\n",
              "  </button>\n",
              "\n",
              "<style>\n",
              "  .colab-df-quickchart {\n",
              "      --bg-color: #E8F0FE;\n",
              "      --fill-color: #1967D2;\n",
              "      --hover-bg-color: #E2EBFA;\n",
              "      --hover-fill-color: #174EA6;\n",
              "      --disabled-fill-color: #AAA;\n",
              "      --disabled-bg-color: #DDD;\n",
              "  }\n",
              "\n",
              "  [theme=dark] .colab-df-quickchart {\n",
              "      --bg-color: #3B4455;\n",
              "      --fill-color: #D2E3FC;\n",
              "      --hover-bg-color: #434B5C;\n",
              "      --hover-fill-color: #FFFFFF;\n",
              "      --disabled-bg-color: #3B4455;\n",
              "      --disabled-fill-color: #666;\n",
              "  }\n",
              "\n",
              "  .colab-df-quickchart {\n",
              "    background-color: var(--bg-color);\n",
              "    border: none;\n",
              "    border-radius: 50%;\n",
              "    cursor: pointer;\n",
              "    display: none;\n",
              "    fill: var(--fill-color);\n",
              "    height: 32px;\n",
              "    padding: 0;\n",
              "    width: 32px;\n",
              "  }\n",
              "\n",
              "  .colab-df-quickchart:hover {\n",
              "    background-color: var(--hover-bg-color);\n",
              "    box-shadow: 0 1px 2px rgba(60, 64, 67, 0.3), 0 1px 3px 1px rgba(60, 64, 67, 0.15);\n",
              "    fill: var(--button-hover-fill-color);\n",
              "  }\n",
              "\n",
              "  .colab-df-quickchart-complete:disabled,\n",
              "  .colab-df-quickchart-complete:disabled:hover {\n",
              "    background-color: var(--disabled-bg-color);\n",
              "    fill: var(--disabled-fill-color);\n",
              "    box-shadow: none;\n",
              "  }\n",
              "\n",
              "  .colab-df-spinner {\n",
              "    border: 2px solid var(--fill-color);\n",
              "    border-color: transparent;\n",
              "    border-bottom-color: var(--fill-color);\n",
              "    animation:\n",
              "      spin 1s steps(1) infinite;\n",
              "  }\n",
              "\n",
              "  @keyframes spin {\n",
              "    0% {\n",
              "      border-color: transparent;\n",
              "      border-bottom-color: var(--fill-color);\n",
              "      border-left-color: var(--fill-color);\n",
              "    }\n",
              "    20% {\n",
              "      border-color: transparent;\n",
              "      border-left-color: var(--fill-color);\n",
              "      border-top-color: var(--fill-color);\n",
              "    }\n",
              "    30% {\n",
              "      border-color: transparent;\n",
              "      border-left-color: var(--fill-color);\n",
              "      border-top-color: var(--fill-color);\n",
              "      border-right-color: var(--fill-color);\n",
              "    }\n",
              "    40% {\n",
              "      border-color: transparent;\n",
              "      border-right-color: var(--fill-color);\n",
              "      border-top-color: var(--fill-color);\n",
              "    }\n",
              "    60% {\n",
              "      border-color: transparent;\n",
              "      border-right-color: var(--fill-color);\n",
              "    }\n",
              "    80% {\n",
              "      border-color: transparent;\n",
              "      border-right-color: var(--fill-color);\n",
              "      border-bottom-color: var(--fill-color);\n",
              "    }\n",
              "    90% {\n",
              "      border-color: transparent;\n",
              "      border-bottom-color: var(--fill-color);\n",
              "    }\n",
              "  }\n",
              "</style>\n",
              "\n",
              "  <script>\n",
              "    async function quickchart(key) {\n",
              "      const quickchartButtonEl =\n",
              "        document.querySelector('#' + key + ' button');\n",
              "      quickchartButtonEl.disabled = true;  // To prevent multiple clicks.\n",
              "      quickchartButtonEl.classList.add('colab-df-spinner');\n",
              "      try {\n",
              "        const charts = await google.colab.kernel.invokeFunction(\n",
              "            'suggestCharts', [key], {});\n",
              "      } catch (error) {\n",
              "        console.error('Error during call to suggestCharts:', error);\n",
              "      }\n",
              "      quickchartButtonEl.classList.remove('colab-df-spinner');\n",
              "      quickchartButtonEl.classList.add('colab-df-quickchart-complete');\n",
              "    }\n",
              "    (() => {\n",
              "      let quickchartButtonEl =\n",
              "        document.querySelector('#df-89dc0479-f303-45b1-9f3b-a9e76d12d93d button');\n",
              "      quickchartButtonEl.style.display =\n",
              "        google.colab.kernel.accessAllowed ? 'block' : 'none';\n",
              "    })();\n",
              "  </script>\n",
              "</div>\n",
              "    </div>\n",
              "  </div>\n"
            ],
            "application/vnd.google.colaboratory.intrinsic+json": {
              "type": "dataframe"
            }
          },
          "metadata": {},
          "execution_count": 21
        }
      ]
    },
    {
      "cell_type": "code",
      "source": [
        "X = df.drop(['EmotionNum', 'Emotion'], axis = 1)\n",
        "y = df.EmotionNum\n",
        "\n",
        "X_train, X_test, y_train, y_test = train_test_split(X, y, test_size = 0.2, random_state = 42)\n"
      ],
      "metadata": {
        "id": "NQPuht1NDzQ3"
      },
      "execution_count": null,
      "outputs": []
    },
    {
      "cell_type": "code",
      "source": [
        "knn_model = KNeighborsClassifier()\n",
        "knn_model.fit(X_train, y_train)\n",
        "\n",
        "train_score = accuracy_score(y_train, knn_model.predict(X_train))\n",
        "print(f'Train score of trained model: {train_score*100}')\n",
        "\n",
        "test_score = accuracy_score(y_test, knn_model.predict(X_test))\n",
        "print(f'Test score of trained model: {test_score*100}')"
      ],
      "metadata": {
        "colab": {
          "base_uri": "https://localhost:8080/"
        },
        "id": "qVEV3Mb_EmZ6",
        "outputId": "9b836c31-dbee-48a7-ee98-5674644a764b"
      },
      "execution_count": null,
      "outputs": [
        {
          "output_type": "stream",
          "name": "stdout",
          "text": [
            "Train score of trained model: 66.49874055415617\n",
            "Test score of trained model: 51.0\n"
          ]
        }
      ]
    },
    {
      "cell_type": "code",
      "source": [
        "parameters = {'n_neighbors': range(3, 10),\n",
        "              'algorithm': ['auto', 'ball_tree', 'kd_tree', 'brute'],\n",
        "             'weights': ['uniform', 'distance'],\n",
        "             'metric': ['manhattan', 'euclidean', 'minkowski'],\n",
        "             }\n",
        "gcv = GridSearchCV(knn_model, parameters, cv=5, verbose = 1, n_jobs = -1).fit(X_train, y_train)"
      ],
      "metadata": {
        "colab": {
          "base_uri": "https://localhost:8080/"
        },
        "id": "KLJKnhlWFDw4",
        "outputId": "68d96050-95e3-4557-9968-78c8e912d26c"
      },
      "execution_count": null,
      "outputs": [
        {
          "output_type": "stream",
          "name": "stdout",
          "text": [
            "Fitting 5 folds for each of 168 candidates, totalling 840 fits\n"
          ]
        }
      ]
    },
    {
      "cell_type": "code",
      "source": [
        "print(f'GridSearchView Best Score: {gcv.best_score_*100}')\n",
        "print(f'GridSearchView Best Estimator: {gcv.best_estimator_}')\n",
        "print(f'GridSearchView Best Params: {gcv.best_params_}')"
      ],
      "metadata": {
        "colab": {
          "base_uri": "https://localhost:8080/"
        },
        "id": "1fCoFNrHF1w2",
        "outputId": "e5d65e11-15ea-4352-c8cb-38631b5e50ec"
      },
      "execution_count": null,
      "outputs": [
        {
          "output_type": "stream",
          "name": "stdout",
          "text": [
            "GridSearchView Best Score: 52.655063291139236\n",
            "GridSearchView Best Estimator: KNeighborsClassifier(metric='manhattan', n_neighbors=7, weights='distance')\n",
            "GridSearchView Best Params: {'algorithm': 'auto', 'metric': 'manhattan', 'n_neighbors': 7, 'weights': 'distance'}\n"
          ]
        }
      ]
    },
    {
      "cell_type": "code",
      "source": [
        "scores = dict()"
      ],
      "metadata": {
        "id": "wLSPLhuHPOaz"
      },
      "execution_count": null,
      "outputs": []
    },
    {
      "cell_type": "code",
      "source": [
        "scores['gcv'] = accuracy_score(y_test, gcv.predict(X_test))\n",
        "scores['gcv']"
      ],
      "metadata": {
        "colab": {
          "base_uri": "https://localhost:8080/"
        },
        "id": "4sdJjdmjF9nH",
        "outputId": "0ff51b2b-b196-42e7-d44e-dc8a1b3028b9"
      },
      "execution_count": null,
      "outputs": [
        {
          "output_type": "execute_result",
          "data": {
            "text/plain": [
              "0.53"
            ]
          },
          "metadata": {},
          "execution_count": 129
        }
      ]
    },
    {
      "cell_type": "code",
      "source": [
        "lr = LogisticRegression()\n",
        "lr.fit(X_train, y_train)\n",
        "accuracy_score(y_test, lr.predict(X_test))\n",
        "scores['linear_regression'] = accuracy_score(y_test, lr.predict(X_test))\n",
        "scores['linear_regression']"
      ],
      "metadata": {
        "colab": {
          "base_uri": "https://localhost:8080/"
        },
        "id": "iM06ug4cGhTD",
        "outputId": "a254745a-34e1-44bc-ca87-ee1633f6403e"
      },
      "execution_count": null,
      "outputs": [
        {
          "output_type": "execute_result",
          "data": {
            "text/plain": [
              "0.52"
            ]
          },
          "metadata": {},
          "execution_count": 130
        }
      ]
    },
    {
      "cell_type": "code",
      "source": [
        "dt=DecisionTreeClassifier()\n",
        "dt.fit(X_train, y_train)\n",
        "scores['decision_tree'] = accuracy_score(y_test, dt.predict(X_test))\n",
        "scores['decision_tree']"
      ],
      "metadata": {
        "colab": {
          "base_uri": "https://localhost:8080/"
        },
        "id": "8AX32qr4G15t",
        "outputId": "f6967481-a6e0-45a2-af25-71bf4ec5039e"
      },
      "execution_count": null,
      "outputs": [
        {
          "output_type": "execute_result",
          "data": {
            "text/plain": [
              "0.47"
            ]
          },
          "metadata": {},
          "execution_count": 131
        }
      ]
    },
    {
      "cell_type": "code",
      "source": [
        "rf=RandomForestClassifier()\n",
        "rf.fit(X_train, y_train)\n",
        "accuracy_score(y_test, rf.predict(X_test))\n",
        "scores['random_forest'] = accuracy_score(y_test, rf.predict(X_test))\n",
        "scores['random_forest']"
      ],
      "metadata": {
        "colab": {
          "base_uri": "https://localhost:8080/"
        },
        "id": "jQs9V1JqHYAU",
        "outputId": "de29ee05-b5d5-4f72-d9a0-b6daee49c1e2"
      },
      "execution_count": null,
      "outputs": [
        {
          "output_type": "execute_result",
          "data": {
            "text/plain": [
              "0.54"
            ]
          },
          "metadata": {},
          "execution_count": 132
        }
      ]
    },
    {
      "cell_type": "code",
      "source": [
        "!pip install catboost"
      ],
      "metadata": {
        "colab": {
          "base_uri": "https://localhost:8080/"
        },
        "id": "mgpgy1yaICwL",
        "outputId": "2ac6355e-4c3e-4e9c-af4d-f45bf374375f"
      },
      "execution_count": null,
      "outputs": [
        {
          "output_type": "stream",
          "name": "stdout",
          "text": [
            "Collecting catboost\n",
            "  Downloading catboost-1.2.3-cp310-cp310-manylinux2014_x86_64.whl (98.5 MB)\n",
            "\u001b[2K     \u001b[90m━━━━━━━━━━━━━━━━━━━━━━━━━━━━━━━━━━━━━━━━\u001b[0m \u001b[32m98.5/98.5 MB\u001b[0m \u001b[31m3.0 MB/s\u001b[0m eta \u001b[36m0:00:00\u001b[0m\n",
            "\u001b[?25hRequirement already satisfied: graphviz in /usr/local/lib/python3.10/dist-packages (from catboost) (0.20.3)\n",
            "Requirement already satisfied: matplotlib in /usr/local/lib/python3.10/dist-packages (from catboost) (3.7.1)\n",
            "Requirement already satisfied: numpy>=1.16.0 in /usr/local/lib/python3.10/dist-packages (from catboost) (1.25.2)\n",
            "Requirement already satisfied: pandas>=0.24 in /usr/local/lib/python3.10/dist-packages (from catboost) (1.5.3)\n",
            "Requirement already satisfied: scipy in /usr/local/lib/python3.10/dist-packages (from catboost) (1.11.4)\n",
            "Requirement already satisfied: plotly in /usr/local/lib/python3.10/dist-packages (from catboost) (5.15.0)\n",
            "Requirement already satisfied: six in /usr/local/lib/python3.10/dist-packages (from catboost) (1.16.0)\n",
            "Requirement already satisfied: python-dateutil>=2.8.1 in /usr/local/lib/python3.10/dist-packages (from pandas>=0.24->catboost) (2.8.2)\n",
            "Requirement already satisfied: pytz>=2020.1 in /usr/local/lib/python3.10/dist-packages (from pandas>=0.24->catboost) (2023.4)\n",
            "Requirement already satisfied: contourpy>=1.0.1 in /usr/local/lib/python3.10/dist-packages (from matplotlib->catboost) (1.2.0)\n",
            "Requirement already satisfied: cycler>=0.10 in /usr/local/lib/python3.10/dist-packages (from matplotlib->catboost) (0.12.1)\n",
            "Requirement already satisfied: fonttools>=4.22.0 in /usr/local/lib/python3.10/dist-packages (from matplotlib->catboost) (4.50.0)\n",
            "Requirement already satisfied: kiwisolver>=1.0.1 in /usr/local/lib/python3.10/dist-packages (from matplotlib->catboost) (1.4.5)\n",
            "Requirement already satisfied: packaging>=20.0 in /usr/local/lib/python3.10/dist-packages (from matplotlib->catboost) (24.0)\n",
            "Requirement already satisfied: pillow>=6.2.0 in /usr/local/lib/python3.10/dist-packages (from matplotlib->catboost) (9.4.0)\n",
            "Requirement already satisfied: pyparsing>=2.3.1 in /usr/local/lib/python3.10/dist-packages (from matplotlib->catboost) (3.1.2)\n",
            "Requirement already satisfied: tenacity>=6.2.0 in /usr/local/lib/python3.10/dist-packages (from plotly->catboost) (8.2.3)\n",
            "Installing collected packages: catboost\n",
            "Successfully installed catboost-1.2.3\n"
          ]
        }
      ]
    },
    {
      "cell_type": "code",
      "source": [
        "from catboost import CatBoostClassifier, Pool"
      ],
      "metadata": {
        "id": "m8Z-6ylRIBWQ"
      },
      "execution_count": null,
      "outputs": []
    },
    {
      "cell_type": "code",
      "source": [
        "train_pool = Pool(X_train, y_train)\n",
        "test_pool = Pool(X_test, y_test)\n",
        "\n",
        "\n",
        "cat = CatBoostClassifier(iterations=500, max_depth=5, learning_rate=0.05, random_seed=42, logging_level='Silent')\n",
        "cat.fit(X_train, y_train, eval_set=test_pool, use_best_model=True, early_stopping_rounds=10)\n",
        "scores['cat_boost'] = accuracy_score(y_test, cat.predict(X_test))\n",
        "scores['cat_boost']"
      ],
      "metadata": {
        "colab": {
          "base_uri": "https://localhost:8080/"
        },
        "id": "bWighTT8IB0V",
        "outputId": "e7639eb3-b979-4fe2-b067-f6b1018e6ff5"
      },
      "execution_count": null,
      "outputs": [
        {
          "output_type": "execute_result",
          "data": {
            "text/plain": [
              "0.56"
            ]
          },
          "metadata": {},
          "execution_count": 122
        }
      ]
    },
    {
      "cell_type": "code",
      "source": [
        "cat.predict(X_test, prediction_type='Class')"
      ],
      "metadata": {
        "colab": {
          "base_uri": "https://localhost:8080/"
        },
        "id": "GrxulQEsTn2q",
        "outputId": "eb9c9e4a-319e-4f34-820b-d08796a1a898"
      },
      "execution_count": null,
      "outputs": [
        {
          "output_type": "execute_result",
          "data": {
            "text/plain": [
              "array([[1],\n",
              "       [4],\n",
              "       [7],\n",
              "       [1],\n",
              "       [7],\n",
              "       [5],\n",
              "       [1],\n",
              "       [7],\n",
              "       [6],\n",
              "       [1],\n",
              "       [7],\n",
              "       [5],\n",
              "       [4],\n",
              "       [4],\n",
              "       [4],\n",
              "       [1],\n",
              "       [5],\n",
              "       [2],\n",
              "       [6],\n",
              "       [5],\n",
              "       [7],\n",
              "       [4],\n",
              "       [5],\n",
              "       [3],\n",
              "       [7],\n",
              "       [3],\n",
              "       [2],\n",
              "       [2],\n",
              "       [1],\n",
              "       [6],\n",
              "       [7],\n",
              "       [7],\n",
              "       [1],\n",
              "       [6],\n",
              "       [4],\n",
              "       [3],\n",
              "       [1],\n",
              "       [6],\n",
              "       [3],\n",
              "       [1],\n",
              "       [1],\n",
              "       [4],\n",
              "       [5],\n",
              "       [2],\n",
              "       [1],\n",
              "       [5],\n",
              "       [2],\n",
              "       [6],\n",
              "       [7],\n",
              "       [5],\n",
              "       [1],\n",
              "       [1],\n",
              "       [5],\n",
              "       [5],\n",
              "       [5],\n",
              "       [4],\n",
              "       [3],\n",
              "       [5],\n",
              "       [7],\n",
              "       [3],\n",
              "       [6],\n",
              "       [5],\n",
              "       [3],\n",
              "       [1],\n",
              "       [5],\n",
              "       [1],\n",
              "       [7],\n",
              "       [7],\n",
              "       [1],\n",
              "       [4],\n",
              "       [4],\n",
              "       [7],\n",
              "       [7],\n",
              "       [7],\n",
              "       [5],\n",
              "       [5],\n",
              "       [1],\n",
              "       [2],\n",
              "       [6],\n",
              "       [7],\n",
              "       [2],\n",
              "       [2],\n",
              "       [6],\n",
              "       [7],\n",
              "       [2],\n",
              "       [6],\n",
              "       [7],\n",
              "       [6],\n",
              "       [7],\n",
              "       [5],\n",
              "       [6],\n",
              "       [3],\n",
              "       [6],\n",
              "       [6],\n",
              "       [2],\n",
              "       [2],\n",
              "       [6],\n",
              "       [2],\n",
              "       [2],\n",
              "       [3]])"
            ]
          },
          "metadata": {},
          "execution_count": 135
        }
      ]
    },
    {
      "cell_type": "code",
      "source": [
        "rf.predict(X_test)"
      ],
      "metadata": {
        "colab": {
          "base_uri": "https://localhost:8080/"
        },
        "id": "v4qYLFEWTuZp",
        "outputId": "ffeb9a50-f5fb-464e-fd5e-2fa202111b55"
      },
      "execution_count": null,
      "outputs": [
        {
          "output_type": "execute_result",
          "data": {
            "text/plain": [
              "array([2, 4, 1, 7, 1, 5, 7, 7, 6, 1, 7, 5, 4, 4, 4, 1, 5, 2, 2, 2, 7, 3,\n",
              "       5, 3, 7, 3, 2, 2, 1, 6, 7, 7, 1, 6, 4, 3, 1, 6, 6, 1, 1, 4, 6, 2,\n",
              "       1, 5, 6, 6, 7, 5, 1, 7, 5, 5, 5, 4, 2, 5, 7, 4, 2, 5, 3, 5, 5, 1,\n",
              "       7, 7, 1, 3, 4, 7, 7, 7, 5, 5, 7, 2, 6, 7, 2, 2, 2, 1, 2, 6, 7, 6,\n",
              "       7, 1, 6, 3, 6, 6, 6, 2, 6, 2, 2, 3])"
            ]
          },
          "metadata": {},
          "execution_count": 124
        }
      ]
    },
    {
      "cell_type": "code",
      "source": [
        "feature_importance = cat.feature_importances_\n",
        "sorted_idx = np.argsort(feature_importance)\n",
        "fig = plt.figure(figsize=(12, 18))\n",
        "plt.barh(range(len(sorted_idx)), feature_importance[sorted_idx], align='center')\n",
        "plt.yticks(range(len(sorted_idx)), np.array(X_test.columns)[sorted_idx])\n",
        "plt.title('Feature Importance')\n",
        "\n",
        "plt.plot()"
      ],
      "metadata": {
        "colab": {
          "base_uri": "https://localhost:8080/",
          "height": 1000
        },
        "id": "vxVuso2kIYHu",
        "outputId": "bd03c900-69eb-4396-d364-4d43b701f647"
      },
      "execution_count": null,
      "outputs": [
        {
          "output_type": "execute_result",
          "data": {
            "text/plain": [
              "[]"
            ]
          },
          "metadata": {},
          "execution_count": 108
        },
        {
          "output_type": "display_data",
          "data": {
            "text/plain": [
              "<Figure size 1200x1800 with 1 Axes>"
            ],
            "image/png": "[encoded data removed]"
          },
          "metadata": {}
        }
      ]
    },
    {
      "cell_type": "code",
      "source": [
        "np.array(X_test.columns)[sorted_idx][::-1][:10]"
      ],
      "metadata": {
        "colab": {
          "base_uri": "https://localhost:8080/"
        },
        "id": "oBkqyZfDJegx",
        "outputId": "f2cfee11-e680-490c-dd49-909b66c3bb1b"
      },
      "execution_count": null,
      "outputs": [
        {
          "output_type": "execute_result",
          "data": {
            "text/plain": [
              "array(['Jaw_Open', 'Jaw_Forward', 'Mouth_Smile_Right', 'Eye_Left_Wide',\n",
              "       'Mouth_Upper_UpRight', 'Eye_Left_Blink', 'Mouth_Sad_Right',\n",
              "       'Mouth_Upper_UpLeft', 'Mouth_Sad_Left', 'Eye_Right_Blink'],\n",
              "      dtype=object)"
            ]
          },
          "metadata": {},
          "execution_count": 66
        }
      ]
    },
    {
      "cell_type": "code",
      "source": [
        "estimators = []\n",
        "estimators.append(('LR', LogisticRegression()))\n",
        "estimators.append(('DT', DecisionTreeClassifier()))\n",
        "estimators.append(('RF', RandomForestClassifier()))\n",
        "estimators.append(('knn', KNeighborsClassifier(**gcv.best_params_)))\n"
      ],
      "metadata": {
        "id": "JlgeHwHmQT5L"
      },
      "execution_count": null,
      "outputs": []
    },
    {
      "cell_type": "code",
      "source": [
        "hard_voting = VotingClassifier(estimators = estimators, voting ='soft')\n",
        "hard_voting.fit(X_train, y_train)\n",
        "accuracy_score(y_test, hard_voting.predict(X_test))"
      ],
      "metadata": {
        "colab": {
          "base_uri": "https://localhost:8080/"
        },
        "id": "0voP6XjhTL6Y",
        "outputId": "bec92a54-a419-4675-d91c-fd0caa6e3382"
      },
      "execution_count": null,
      "outputs": [
        {
          "output_type": "execute_result",
          "data": {
            "text/plain": [
              "0.5"
            ]
          },
          "metadata": {},
          "execution_count": 138
        }
      ]
    },
    {
      "cell_type": "markdown",
      "source": [
        "# New feature"
      ],
      "metadata": {
        "id": "xLncTioLKKJp"
      }
    },
    {
      "cell_type": "code",
      "source": [
        "X_new = X[np.array(X_test.columns)[sorted_idx][::-1][:10]]\n",
        "X_train_new, X_test_new, y_train, y_test = train_test_split(X_new, y, test_size = 0.2, random_state = 42)\n"
      ],
      "metadata": {
        "id": "RTp0E0LIKOWZ"
      },
      "execution_count": null,
      "outputs": []
    },
    {
      "cell_type": "code",
      "source": [
        "knn_model = KNeighborsClassifier()\n",
        "knn_model.fit(X_train_new, y_train)\n",
        "\n",
        "train_score = accuracy_score(y_train, knn_model.predict(X_train_new))\n",
        "print(f'Train score of trained model: {train_score*100}')\n",
        "\n",
        "test_score = accuracy_score(y_test, knn_model.predict(X_test_new))\n",
        "print(f'Test score of trained model: {test_score*100}')"
      ],
      "metadata": {
        "colab": {
          "base_uri": "https://localhost:8080/"
        },
        "id": "Ln0Hw3nsKRYN",
        "outputId": "9d99a34a-6a28-4bb2-94f0-884c5c1ac7fb"
      },
      "execution_count": null,
      "outputs": [
        {
          "output_type": "stream",
          "name": "stdout",
          "text": [
            "Train score of trained model: 61.712846347607055\n",
            "Test score of trained model: 42.0\n"
          ]
        }
      ]
    },
    {
      "cell_type": "code",
      "source": [
        "parameters = {'n_neighbors': range(2, 10),\n",
        "              'algorithm': ['auto', 'ball_tree', 'kd_tree', 'brute'],\n",
        "             'weights': ['uniform', 'distance'],\n",
        "             'metric': ['manhattan', 'euclidean', 'minkowski'],\n",
        "             }\n",
        "gcv = GridSearchCV(knn_model, parameters, cv=5, verbose = 1, n_jobs = -1).fit(X_train_new, y_train)"
      ],
      "metadata": {
        "colab": {
          "base_uri": "https://localhost:8080/"
        },
        "id": "H18LmvZ7LfCK",
        "outputId": "b1f46b43-9e20-4f27-f4ec-06c14bbc4b8c"
      },
      "execution_count": null,
      "outputs": [
        {
          "output_type": "stream",
          "name": "stdout",
          "text": [
            "Fitting 5 folds for each of 192 candidates, totalling 960 fits\n"
          ]
        }
      ]
    },
    {
      "cell_type": "code",
      "source": [
        "print(f'GridSearchView Best Score: {gcv.best_score_*100}')\n",
        "print(f'GridSearchView Best Estimator: {gcv.best_estimator_}')\n",
        "print(f'GridSearchView Best Params: {gcv.best_params_}')"
      ],
      "metadata": {
        "colab": {
          "base_uri": "https://localhost:8080/"
        },
        "id": "I_jhXTumLjw5",
        "outputId": "0c8f90fb-e8f2-461a-8b3d-864917ef5630"
      },
      "execution_count": null,
      "outputs": [
        {
          "output_type": "stream",
          "name": "stdout",
          "text": [
            "GridSearchView Best Score: 52.14873417721518\n",
            "GridSearchView Best Estimator: KNeighborsClassifier(metric='euclidean', n_neighbors=7)\n",
            "GridSearchView Best Params: {'algorithm': 'auto', 'metric': 'euclidean', 'n_neighbors': 7, 'weights': 'uniform'}\n"
          ]
        }
      ]
    },
    {
      "cell_type": "code",
      "source": [
        "accuracy_score(y_test, gcv.predict(X_test_new))"
      ],
      "metadata": {
        "colab": {
          "base_uri": "https://localhost:8080/"
        },
        "id": "pLfKiMt_Lwaq",
        "outputId": "a0ebaae2-15c8-43dd-c1f8-8d390f76b047"
      },
      "execution_count": null,
      "outputs": [
        {
          "output_type": "execute_result",
          "data": {
            "text/plain": [
              "0.43"
            ]
          },
          "metadata": {},
          "execution_count": 87
        }
      ]
    },
    {
      "cell_type": "code",
      "source": [
        "lr = LogisticRegression()\n",
        "lr.fit(X_train_new, y_train)\n",
        "accuracy_score(y_test, lr.predict(X_test_new))"
      ],
      "metadata": {
        "colab": {
          "base_uri": "https://localhost:8080/"
        },
        "id": "wJiB1jH9LwwB",
        "outputId": "154cbef8-85a6-4d35-9720-395c4c6ac14a"
      },
      "execution_count": null,
      "outputs": [
        {
          "output_type": "execute_result",
          "data": {
            "text/plain": [
              "0.46"
            ]
          },
          "metadata": {},
          "execution_count": 89
        }
      ]
    },
    {
      "cell_type": "code",
      "source": [
        "dt=DecisionTreeClassifier()\n",
        "dt.fit(X_train_new, y_train)\n",
        "accuracy_score(y_test, dt.predict(X_test_new))"
      ],
      "metadata": {
        "colab": {
          "base_uri": "https://localhost:8080/"
        },
        "id": "eYrkmnLNMJzN",
        "outputId": "e64df4c2-0551-4cc8-aa2d-20cb56046f76"
      },
      "execution_count": null,
      "outputs": [
        {
          "output_type": "execute_result",
          "data": {
            "text/plain": [
              "0.47"
            ]
          },
          "metadata": {},
          "execution_count": 92
        }
      ]
    },
    {
      "cell_type": "code",
      "source": [
        "rf=RandomForestClassifier()\n",
        "rf.fit(X_train_new, y_train)\n",
        "accuracy_score(y_test, rf.predict(X_test_new))"
      ],
      "metadata": {
        "colab": {
          "base_uri": "https://localhost:8080/"
        },
        "id": "__wu2HMQMNN3",
        "outputId": "56fef36e-5ce1-4111-9138-bd45590eae98"
      },
      "execution_count": null,
      "outputs": [
        {
          "output_type": "execute_result",
          "data": {
            "text/plain": [
              "0.46"
            ]
          },
          "metadata": {},
          "execution_count": 93
        }
      ]
    },
    {
      "cell_type": "code",
      "source": [
        "train_pool = Pool(X_train_new, y_train)\n",
        "test_pool = Pool(X_test_new, y_test)\n",
        "\n",
        "\n",
        "cat = CatBoostClassifier(iterations=500, max_depth=5, learning_rate=0.05, random_seed=42, logging_level='Silent')\n",
        "cat.fit(X_train_new, y_train, eval_set=test_pool, use_best_model=True, early_stopping_rounds=10)\n",
        "accuracy_score(y_test, cat.predict(X_test_new))"
      ],
      "metadata": {
        "colab": {
          "base_uri": "https://localhost:8080/"
        },
        "id": "lYriKfdLMYHi",
        "outputId": "b6fedcdb-b871-4809-9f2e-7a4ffeb14fc4"
      },
      "execution_count": null,
      "outputs": [
        {
          "output_type": "execute_result",
          "data": {
            "text/plain": [
              "0.52"
            ]
          },
          "metadata": {},
          "execution_count": 95
        }
      ]
    },
    {
      "cell_type": "markdown",
      "source": [
        "Вывод: отбор признаков не помогает"
      ],
      "metadata": {
        "id": "c_B0hMD1O7uw"
      }
    }
  ]
}